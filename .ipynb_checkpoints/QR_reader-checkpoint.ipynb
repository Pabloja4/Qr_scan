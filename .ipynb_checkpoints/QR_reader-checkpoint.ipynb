{
 "cells": [
  {
   "cell_type": "markdown",
   "id": "a30f8e64-ba18-4ed8-aa0d-83e2c40f311e",
   "metadata": {},
   "source": [
    "># Machine Learning Test - QR Codes"
   ]
  },
  {
   "cell_type": "markdown",
   "id": "eb74c312-9af9-4876-a107-0e60d94ae612",
   "metadata": {},
   "source": [
    "Using then IDEAL method for desicion making we may start with the problem identification."
   ]
  },
  {
   "cell_type": "markdown",
   "id": "ada2ae26-aba5-4cd0-89d0-66b9099828b6",
   "metadata": {},
   "source": [
    "We need to:\n",
    "\n",
    "1. Build a model to extract QR codes from an image.\n",
    "2. Build the complete prediction pipeline that accepts an image as input and returns the QR\n",
    "codes extracted.\n",
    "3. Make the model available somehow for inference (via API call or web app) locally or on the\n",
    "cloud."
   ]
  },
  {
   "cell_type": "markdown",
   "id": "0da255e5-64f3-400a-a0bf-22d513476432",
   "metadata": {},
   "source": [
    "Describing my approach I will use Open CV, an open source library easy to handle. This tool will be helpful for reading the qr code from an image and from a web cam. Also pyzbar will  "
   ]
  },
  {
   "cell_type": "markdown",
   "id": "68fea598-7665-43a3-a46b-027dcbeb6350",
   "metadata": {},
   "source": [
    "For QR creation we will need qrcode, it will easy the pipeline creation. \n",
    "Link to the documentation: https://pypi.org/project/qrcode/"
   ]
  },
  {
   "cell_type": "markdown",
   "id": "a5323e54-0766-4948-b19b-8c1483f633c5",
   "metadata": {},
   "source": [
    "Github pages will host the app once finished"
   ]
  },
  {
   "cell_type": "markdown",
   "id": "3c16a0fd-4566-4255-b399-679c75778d51",
   "metadata": {},
   "source": [
    "Libraries used:"
   ]
  },
  {
   "cell_type": "code",
   "execution_count": null,
   "id": "205c68d4-42f7-408c-a639-639539fff14c",
   "metadata": {},
   "outputs": [],
   "source": [
    "! pip install qrcode[pil] opencv-python flask"
   ]
  },
  {
   "cell_type": "code",
   "execution_count": 6,
   "id": "43cfb0f4-ea58-46dc-b47e-c4001b257524",
   "metadata": {},
   "outputs": [],
   "source": [
    "import qrcode\n",
    "import cv2\n",
    "import numpy as np\n",
    "from pyzbar.pyzbar import decode\n",
    "from flask import Flask\n",
    "from flask import render_template\n",
    "from flask import Response"
   ]
  },
  {
   "cell_type": "code",
   "execution_count": null,
   "id": "56ca0aed-2415-40a0-852c-8e31572e8904",
   "metadata": {},
   "outputs": [],
   "source": [
    "app = Flask(__name__)\n",
    "\n",
    "@app.route(\"/\")\n",
    "def index():\n",
    "    return \"Hola mundo\"\n",
    "if __name__ == \"__main__\":\n",
    "    app.run(debug=True)"
   ]
  },
  {
   "cell_type": "markdown",
   "id": "a09ebff2-afca-470d-895d-f8dbe236363b",
   "metadata": {},
   "source": [
    "## QR generator"
   ]
  },
  {
   "cell_type": "code",
   "execution_count": 34,
   "id": "42168f4c-96a0-4c8c-b944-eb73172aa731",
   "metadata": {},
   "outputs": [],
   "source": [
    "def qr_generator(text, img_name):\n",
    "    data = text\n",
    "    qr = qrcode.QRCode(\n",
    "        version=1,\n",
    "        error_correction=qrcode.constants.ERROR_CORRECT_H,\n",
    "        box_size=20,\n",
    "        border=4)\n",
    "\n",
    "    qr.add_data(data)\n",
    "    qr.make(fit = True)\n",
    "        \n",
    "    img = qr.make_image(fill_color = \"purple\",\n",
    "                   back_color = \"white\")\n",
    "\n",
    "    img.save(img_name)"
   ]
  },
  {
   "cell_type": "code",
   "execution_count": 35,
   "id": "b60f9156-a852-4bff-9dad-1142246c8fc8",
   "metadata": {},
   "outputs": [],
   "source": [
    "qr_generator(\"Pablo Jaramillo\", \"nombre.png\")"
   ]
  },
  {
   "cell_type": "markdown",
   "id": "0fb759e6-8dc9-445a-bb96-3f9ccb6ea477",
   "metadata": {},
   "source": [
    "# QR reader"
   ]
  },
  {
   "cell_type": "code",
   "execution_count": 2,
   "id": "760e9625-7611-41ef-ad4d-16aac1c76eb9",
   "metadata": {},
   "outputs": [
    {
     "name": "stdout",
     "output_type": "stream",
     "text": [
      "Pablo Jaramillo\n"
     ]
    }
   ],
   "source": [
    "image = cv2.imread(\"nombre.png\")\n",
    "data = decode(image)\n",
    "def read_qr_image(image):\n",
    "    for output in decode(image):\n",
    "        text = output.data.decode(\"utf-8\")\n",
    "        return text\n",
    "    \n",
    "print(read_qr_image(image))"
   ]
  },
  {
   "cell_type": "code",
   "execution_count": 3,
   "id": "a12f5277-24d3-4ce8-a05c-fddbaea45be1",
   "metadata": {},
   "outputs": [],
   "source": [
    "def read_qr_webcam(image):\n",
    "    for output in decode(image):\n",
    "        text = output.data.decode(\"utf-8\")\n",
    "        points = np.array([output.polygon],np.int32)\n",
    "        points = points.reshape((-1,1,2))\n",
    "        cv2.polylines(image,[points], True, (0,0,255),5)\n",
    "        corner = output.rect\n",
    "        cv2.putText(image, text, (corner[0], corner[1]), \n",
    "                    cv2.FONT_HERSHEY_SIMPLEX, 0.9, (25,25,25),2)"
   ]
  },
  {
   "cell_type": "code",
   "execution_count": 4,
   "id": "4d47823e-63d3-4025-b148-bed19ecb5059",
   "metadata": {},
   "outputs": [],
   "source": [
    "#Web cam setup\n",
    "cam = cv2.VideoCapture(0) \n",
    "cam.set(3,640)\n",
    "cam.set(4,480)\n",
    "\n",
    "while cam.isOpened():\n",
    "    \n",
    "    success, img = cam.read()\n",
    "    read_qr_webcam(img)\n",
    "    cv2.imshow(\"webcam\", img)\n",
    "    \n",
    "    if cv2.waitKey(1) & 0xFF == ord(\"q\"):\n",
    "        break\n",
    "\n",
    "cam.release()\n",
    "cv2.destroyAllWindows()"
   ]
  },
  {
   "cell_type": "code",
   "execution_count": 4,
   "id": "a46186ce-e877-43a8-b6de-df145d938c35",
   "metadata": {},
   "outputs": [],
   "source": [
    "#Web cam setup\n",
    "cam = cv2.VideoCapture(0) \n",
    "cam.set(3,640)\n",
    "cam.set(4,480)\n",
    "\n",
    "while cam.isOpened():\n",
    "    \n",
    "    success, img = cam.read()\n",
    "    for output in decode(image):\n",
    "        text = output.data.decode(\"utf-8\")\n",
    "        points = np.array([output.polygon],np.int32)\n",
    "        points = points.reshape((-1,1,2))\n",
    "        cv2.polylines(image,[points], True, (0,0,255),5)\n",
    "        corner = output.rect\n",
    "        cv2.putText(image, text, (corner[0], corner[1]), \n",
    "                    cv2.FONT_HERSHEY_SIMPLEX, 0.9, (25,25,25),2)\n",
    "    cv2.imshow(\"webcam\", img)\n",
    "    \n",
    "    if cv2.waitKey(1) & 0xFF == ord(\"q\"):\n",
    "        break\n",
    "\n",
    "cam.release()\n",
    "cv2.destroyAllWindows()"
   ]
  },
  {
   "cell_type": "code",
   "execution_count": 21,
   "id": "ebddbd79-0515-4521-abd0-17399110326f",
   "metadata": {},
   "outputs": [
    {
     "data": {
      "text/plain": [
       "[Decoded(data=b'Te amo', type='QRCODE', rect=Rect(left=50, top=50, width=210, height=210), polygon=[Point(x=50, y=50), Point(x=50, y=260), Point(x=260, y=260), Point(x=260, y=50)], quality=1, orientation='UP')]"
      ]
     },
     "execution_count": 21,
     "metadata": {},
     "output_type": "execute_result"
    }
   ],
   "source": [
    "data"
   ]
  },
  {
   "cell_type": "code",
   "execution_count": null,
   "id": "450a66bf-6a5c-406b-ac61-6c15bcc1c9fa",
   "metadata": {},
   "outputs": [],
   "source": []
  }
 ],
 "metadata": {
  "kernelspec": {
   "display_name": "qr",
   "language": "python",
   "name": "qr"
  },
  "language_info": {
   "codemirror_mode": {
    "name": "ipython",
    "version": 3
   },
   "file_extension": ".py",
   "mimetype": "text/x-python",
   "name": "python",
   "nbconvert_exporter": "python",
   "pygments_lexer": "ipython3",
   "version": "3.9.7"
  }
 },
 "nbformat": 4,
 "nbformat_minor": 5
}
